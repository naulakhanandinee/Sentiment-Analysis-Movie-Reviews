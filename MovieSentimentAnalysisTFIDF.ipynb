{
  "nbformat": 4,
  "nbformat_minor": 0,
  "metadata": {
    "colab": {
      "provenance": [],
      "include_colab_link": true
    },
    "kernelspec": {
      "name": "python3",
      "display_name": "Python 3"
    },
    "language_info": {
      "name": "python"
    }
  },
  "cells": [
    {
      "cell_type": "markdown",
      "metadata": {
        "id": "view-in-github",
        "colab_type": "text"
      },
      "source": [
        "<a href=\"https://colab.research.google.com/github/naulakhanandinee/Sentiment-Analysis-Movie-Reviews/blob/main/MovieSentimentAnalysisTFIDF.ipynb\" target=\"_parent\"><img src=\"https://colab.research.google.com/assets/colab-badge.svg\" alt=\"Open In Colab\"/></a>"
      ]
    },
    {
      "cell_type": "code",
      "metadata": {
        "id": "eFufS70CoZVh"
      },
      "source": [
        "import pandas as pd"
      ],
      "execution_count": null,
      "outputs": []
    },
    {
      "cell_type": "markdown",
      "source": [],
      "metadata": {
        "id": "INjHzNi6jVjh"
      }
    },
    {
      "cell_type": "code",
      "metadata": {
        "colab": {
          "base_uri": "https://localhost:8080/"
        },
        "id": "McwpeVYsDI5m",
        "outputId": "ee573e87-80c6-49a4-f696-6be0a45c1b72"
      },
      "source": [
        "from google.colab import drive\n",
        "drive.mount('/content/drive')"
      ],
      "execution_count": null,
      "outputs": [
        {
          "output_type": "stream",
          "name": "stdout",
          "text": [
            "Mounted at /content/drive\n"
          ]
        }
      ]
    },
    {
      "cell_type": "code",
      "metadata": {
        "id": "ZdDFLTBxpSof"
      },
      "source": [
        "df = pd.read_csv('//content/drive/MyDrive/Colab Notebooks/IMDB Dataset.csv')\n",
        "df['sentiment'].replace({'positive':1 ,'negative':0},inplace=True)"
      ],
      "execution_count": null,
      "outputs": []
    },
    {
      "cell_type": "markdown",
      "metadata": {
        "id": "3dQ3cb3Vx_ps"
      },
      "source": [
        "# Text Cleaning\n",
        "1. Remove html tags\n",
        "2. Remove special characters\n",
        "3. Convert everything to lowercase\n",
        "4. Remove stopwords\n",
        "5. Stemming"
      ]
    },
    {
      "cell_type": "code",
      "metadata": {
        "colab": {
          "base_uri": "https://localhost:8080/"
        },
        "id": "jyns17vydKLz",
        "outputId": "d062b5de-5ff7-4a75-e855-4e3781626fd6"
      },
      "source": [
        "df=df.sample(10000)\n",
        "df.shape\n"
      ],
      "execution_count": null,
      "outputs": [
        {
          "output_type": "execute_result",
          "data": {
            "text/plain": [
              "(10000, 2)"
            ]
          },
          "metadata": {},
          "execution_count": 4
        }
      ]
    },
    {
      "cell_type": "code",
      "metadata": {
        "id": "MHy8lJpUs8KW",
        "colab": {
          "base_uri": "https://localhost:8080/",
          "height": 423
        },
        "outputId": "a11fbc95-fde2-4516-e34b-0770326bbf00"
      },
      "source": [
        "#function to clean html tags\n",
        "import re\n",
        "def clean_html(text):\n",
        "  clean=re.compile('<.*?>')\n",
        "  return re.sub(clean,' ',text)\n",
        "\n",
        "df['review']=df['review'].apply(clean_html)\n",
        "df"
      ],
      "execution_count": null,
      "outputs": [
        {
          "output_type": "execute_result",
          "data": {
            "text/html": [
              "<div>\n",
              "<style scoped>\n",
              "    .dataframe tbody tr th:only-of-type {\n",
              "        vertical-align: middle;\n",
              "    }\n",
              "\n",
              "    .dataframe tbody tr th {\n",
              "        vertical-align: top;\n",
              "    }\n",
              "\n",
              "    .dataframe thead th {\n",
              "        text-align: right;\n",
              "    }\n",
              "</style>\n",
              "<table border=\"1\" class=\"dataframe\">\n",
              "  <thead>\n",
              "    <tr style=\"text-align: right;\">\n",
              "      <th></th>\n",
              "      <th>review</th>\n",
              "      <th>sentiment</th>\n",
              "    </tr>\n",
              "  </thead>\n",
              "  <tbody>\n",
              "    <tr>\n",
              "      <th>15944</th>\n",
              "      <td>This was pretty inevitable. This movie borrows...</td>\n",
              "      <td>0</td>\n",
              "    </tr>\n",
              "    <tr>\n",
              "      <th>538</th>\n",
              "      <td>Sixth escapade for Freddy Krueger in which he ...</td>\n",
              "      <td>0</td>\n",
              "    </tr>\n",
              "    <tr>\n",
              "      <th>17435</th>\n",
              "      <td>After apprehending the man responsible for the...</td>\n",
              "      <td>0</td>\n",
              "    </tr>\n",
              "    <tr>\n",
              "      <th>11217</th>\n",
              "      <td>John (Ben Chaplin) is a lonely bank clerk who ...</td>\n",
              "      <td>1</td>\n",
              "    </tr>\n",
              "    <tr>\n",
              "      <th>15505</th>\n",
              "      <td>I attended one of the premieres last night and...</td>\n",
              "      <td>0</td>\n",
              "    </tr>\n",
              "    <tr>\n",
              "      <th>...</th>\n",
              "      <td>...</td>\n",
              "      <td>...</td>\n",
              "    </tr>\n",
              "    <tr>\n",
              "      <th>49633</th>\n",
              "      <td>I absolutely despise this movie. No wonder Jos...</td>\n",
              "      <td>0</td>\n",
              "    </tr>\n",
              "    <tr>\n",
              "      <th>21015</th>\n",
              "      <td>Crackerjack is a simple but feelgood movie whe...</td>\n",
              "      <td>1</td>\n",
              "    </tr>\n",
              "    <tr>\n",
              "      <th>20639</th>\n",
              "      <td>Hal Hartley's Henry Fool was an independent fi...</td>\n",
              "      <td>1</td>\n",
              "    </tr>\n",
              "    <tr>\n",
              "      <th>29654</th>\n",
              "      <td>Lock Up Your Daughters is one of the best high...</td>\n",
              "      <td>1</td>\n",
              "    </tr>\n",
              "    <tr>\n",
              "      <th>22600</th>\n",
              "      <td>I've come to realise through watching this sor...</td>\n",
              "      <td>0</td>\n",
              "    </tr>\n",
              "  </tbody>\n",
              "</table>\n",
              "<p>10000 rows × 2 columns</p>\n",
              "</div>"
            ],
            "text/plain": [
              "                                                  review  sentiment\n",
              "15944  This was pretty inevitable. This movie borrows...          0\n",
              "538    Sixth escapade for Freddy Krueger in which he ...          0\n",
              "17435  After apprehending the man responsible for the...          0\n",
              "11217  John (Ben Chaplin) is a lonely bank clerk who ...          1\n",
              "15505  I attended one of the premieres last night and...          0\n",
              "...                                                  ...        ...\n",
              "49633  I absolutely despise this movie. No wonder Jos...          0\n",
              "21015  Crackerjack is a simple but feelgood movie whe...          1\n",
              "20639  Hal Hartley's Henry Fool was an independent fi...          1\n",
              "29654  Lock Up Your Daughters is one of the best high...          1\n",
              "22600  I've come to realise through watching this sor...          0\n",
              "\n",
              "[10000 rows x 2 columns]"
            ]
          },
          "metadata": {},
          "execution_count": 5
        }
      ]
    },
    {
      "cell_type": "code",
      "metadata": {
        "id": "EU3eKxNOtiJA",
        "colab": {
          "base_uri": "https://localhost:8080/",
          "height": 423
        },
        "outputId": "0fc0ddab-1459-4019-e579-3e5181b6f117"
      },
      "source": [
        "#converting everthing to lower\n",
        "def convert_lower(text):\n",
        "  return text.lower()\n",
        "\n",
        "df['review']=df['review'].apply(convert_lower)\n",
        "df"
      ],
      "execution_count": null,
      "outputs": [
        {
          "output_type": "execute_result",
          "data": {
            "text/html": [
              "<div>\n",
              "<style scoped>\n",
              "    .dataframe tbody tr th:only-of-type {\n",
              "        vertical-align: middle;\n",
              "    }\n",
              "\n",
              "    .dataframe tbody tr th {\n",
              "        vertical-align: top;\n",
              "    }\n",
              "\n",
              "    .dataframe thead th {\n",
              "        text-align: right;\n",
              "    }\n",
              "</style>\n",
              "<table border=\"1\" class=\"dataframe\">\n",
              "  <thead>\n",
              "    <tr style=\"text-align: right;\">\n",
              "      <th></th>\n",
              "      <th>review</th>\n",
              "      <th>sentiment</th>\n",
              "    </tr>\n",
              "  </thead>\n",
              "  <tbody>\n",
              "    <tr>\n",
              "      <th>15944</th>\n",
              "      <td>this was pretty inevitable. this movie borrows...</td>\n",
              "      <td>0</td>\n",
              "    </tr>\n",
              "    <tr>\n",
              "      <th>538</th>\n",
              "      <td>sixth escapade for freddy krueger in which he ...</td>\n",
              "      <td>0</td>\n",
              "    </tr>\n",
              "    <tr>\n",
              "      <th>17435</th>\n",
              "      <td>after apprehending the man responsible for the...</td>\n",
              "      <td>0</td>\n",
              "    </tr>\n",
              "    <tr>\n",
              "      <th>11217</th>\n",
              "      <td>john (ben chaplin) is a lonely bank clerk who ...</td>\n",
              "      <td>1</td>\n",
              "    </tr>\n",
              "    <tr>\n",
              "      <th>15505</th>\n",
              "      <td>i attended one of the premieres last night and...</td>\n",
              "      <td>0</td>\n",
              "    </tr>\n",
              "    <tr>\n",
              "      <th>...</th>\n",
              "      <td>...</td>\n",
              "      <td>...</td>\n",
              "    </tr>\n",
              "    <tr>\n",
              "      <th>49633</th>\n",
              "      <td>i absolutely despise this movie. no wonder jos...</td>\n",
              "      <td>0</td>\n",
              "    </tr>\n",
              "    <tr>\n",
              "      <th>21015</th>\n",
              "      <td>crackerjack is a simple but feelgood movie whe...</td>\n",
              "      <td>1</td>\n",
              "    </tr>\n",
              "    <tr>\n",
              "      <th>20639</th>\n",
              "      <td>hal hartley's henry fool was an independent fi...</td>\n",
              "      <td>1</td>\n",
              "    </tr>\n",
              "    <tr>\n",
              "      <th>29654</th>\n",
              "      <td>lock up your daughters is one of the best high...</td>\n",
              "      <td>1</td>\n",
              "    </tr>\n",
              "    <tr>\n",
              "      <th>22600</th>\n",
              "      <td>i've come to realise through watching this sor...</td>\n",
              "      <td>0</td>\n",
              "    </tr>\n",
              "  </tbody>\n",
              "</table>\n",
              "<p>10000 rows × 2 columns</p>\n",
              "</div>"
            ],
            "text/plain": [
              "                                                  review  sentiment\n",
              "15944  this was pretty inevitable. this movie borrows...          0\n",
              "538    sixth escapade for freddy krueger in which he ...          0\n",
              "17435  after apprehending the man responsible for the...          0\n",
              "11217  john (ben chaplin) is a lonely bank clerk who ...          1\n",
              "15505  i attended one of the premieres last night and...          0\n",
              "...                                                  ...        ...\n",
              "49633  i absolutely despise this movie. no wonder jos...          0\n",
              "21015  crackerjack is a simple but feelgood movie whe...          1\n",
              "20639  hal hartley's henry fool was an independent fi...          1\n",
              "29654  lock up your daughters is one of the best high...          1\n",
              "22600  i've come to realise through watching this sor...          0\n",
              "\n",
              "[10000 rows x 2 columns]"
            ]
          },
          "metadata": {},
          "execution_count": 6
        }
      ]
    },
    {
      "cell_type": "code",
      "metadata": {
        "id": "kKB4usC7vKF9",
        "colab": {
          "base_uri": "https://localhost:8080/",
          "height": 423
        },
        "outputId": "bf158039-7b82-4c5c-9bb7-6d046c2a92f7"
      },
      "source": [
        "#function to remove special characters\n",
        "\n",
        "def remove_special(text):\n",
        "  x=''\n",
        "\n",
        "  for i in text:\n",
        "    if i.isalnum():\n",
        "      x=x+i\n",
        "    else:\n",
        "      x= x + ' '\n",
        "  return x\n",
        "\n",
        "df['review']=df['review'].apply(remove_special)\n",
        "df"
      ],
      "execution_count": null,
      "outputs": [
        {
          "output_type": "execute_result",
          "data": {
            "text/html": [
              "<div>\n",
              "<style scoped>\n",
              "    .dataframe tbody tr th:only-of-type {\n",
              "        vertical-align: middle;\n",
              "    }\n",
              "\n",
              "    .dataframe tbody tr th {\n",
              "        vertical-align: top;\n",
              "    }\n",
              "\n",
              "    .dataframe thead th {\n",
              "        text-align: right;\n",
              "    }\n",
              "</style>\n",
              "<table border=\"1\" class=\"dataframe\">\n",
              "  <thead>\n",
              "    <tr style=\"text-align: right;\">\n",
              "      <th></th>\n",
              "      <th>review</th>\n",
              "      <th>sentiment</th>\n",
              "    </tr>\n",
              "  </thead>\n",
              "  <tbody>\n",
              "    <tr>\n",
              "      <th>15944</th>\n",
              "      <td>this was pretty inevitable  this movie borrows...</td>\n",
              "      <td>0</td>\n",
              "    </tr>\n",
              "    <tr>\n",
              "      <th>538</th>\n",
              "      <td>sixth escapade for freddy krueger in which he ...</td>\n",
              "      <td>0</td>\n",
              "    </tr>\n",
              "    <tr>\n",
              "      <th>17435</th>\n",
              "      <td>after apprehending the man responsible for the...</td>\n",
              "      <td>0</td>\n",
              "    </tr>\n",
              "    <tr>\n",
              "      <th>11217</th>\n",
              "      <td>john  ben chaplin  is a lonely bank clerk who ...</td>\n",
              "      <td>1</td>\n",
              "    </tr>\n",
              "    <tr>\n",
              "      <th>15505</th>\n",
              "      <td>i attended one of the premieres last night and...</td>\n",
              "      <td>0</td>\n",
              "    </tr>\n",
              "    <tr>\n",
              "      <th>...</th>\n",
              "      <td>...</td>\n",
              "      <td>...</td>\n",
              "    </tr>\n",
              "    <tr>\n",
              "      <th>49633</th>\n",
              "      <td>i absolutely despise this movie  no wonder jos...</td>\n",
              "      <td>0</td>\n",
              "    </tr>\n",
              "    <tr>\n",
              "      <th>21015</th>\n",
              "      <td>crackerjack is a simple but feelgood movie whe...</td>\n",
              "      <td>1</td>\n",
              "    </tr>\n",
              "    <tr>\n",
              "      <th>20639</th>\n",
              "      <td>hal hartley s henry fool was an independent fi...</td>\n",
              "      <td>1</td>\n",
              "    </tr>\n",
              "    <tr>\n",
              "      <th>29654</th>\n",
              "      <td>lock up your daughters is one of the best high...</td>\n",
              "      <td>1</td>\n",
              "    </tr>\n",
              "    <tr>\n",
              "      <th>22600</th>\n",
              "      <td>i ve come to realise through watching this sor...</td>\n",
              "      <td>0</td>\n",
              "    </tr>\n",
              "  </tbody>\n",
              "</table>\n",
              "<p>10000 rows × 2 columns</p>\n",
              "</div>"
            ],
            "text/plain": [
              "                                                  review  sentiment\n",
              "15944  this was pretty inevitable  this movie borrows...          0\n",
              "538    sixth escapade for freddy krueger in which he ...          0\n",
              "17435  after apprehending the man responsible for the...          0\n",
              "11217  john  ben chaplin  is a lonely bank clerk who ...          1\n",
              "15505  i attended one of the premieres last night and...          0\n",
              "...                                                  ...        ...\n",
              "49633  i absolutely despise this movie  no wonder jos...          0\n",
              "21015  crackerjack is a simple but feelgood movie whe...          1\n",
              "20639  hal hartley s henry fool was an independent fi...          1\n",
              "29654  lock up your daughters is one of the best high...          1\n",
              "22600  i ve come to realise through watching this sor...          0\n",
              "\n",
              "[10000 rows x 2 columns]"
            ]
          },
          "metadata": {},
          "execution_count": 7
        }
      ]
    },
    {
      "cell_type": "code",
      "metadata": {
        "id": "lF6Pi6u-0L7u",
        "colab": {
          "base_uri": "https://localhost:8080/",
          "height": 460
        },
        "outputId": "b79afb79-c9c0-4f32-a6c5-ab1f8ec03f9e"
      },
      "source": [
        "#function to remove stopwords\n",
        "import nltk\n",
        "nltk.download('stopwords')\n",
        "from nltk.corpus import stopwords\n",
        "\n",
        "def remove_stopwords(text):\n",
        "  x=[]\n",
        "  for i in text.split():\n",
        "    if i not in stopwords.words('english'):\n",
        "      x.append(i)\n",
        "  y=x[:]\n",
        "  x.clear()\n",
        "  return y\n",
        "\n",
        "df['review']= df['review'].apply(remove_stopwords)\n",
        "df"
      ],
      "execution_count": null,
      "outputs": [
        {
          "output_type": "stream",
          "name": "stdout",
          "text": [
            "[nltk_data] Downloading package stopwords to /root/nltk_data...\n",
            "[nltk_data]   Unzipping corpora/stopwords.zip.\n"
          ]
        },
        {
          "output_type": "execute_result",
          "data": {
            "text/html": [
              "<div>\n",
              "<style scoped>\n",
              "    .dataframe tbody tr th:only-of-type {\n",
              "        vertical-align: middle;\n",
              "    }\n",
              "\n",
              "    .dataframe tbody tr th {\n",
              "        vertical-align: top;\n",
              "    }\n",
              "\n",
              "    .dataframe thead th {\n",
              "        text-align: right;\n",
              "    }\n",
              "</style>\n",
              "<table border=\"1\" class=\"dataframe\">\n",
              "  <thead>\n",
              "    <tr style=\"text-align: right;\">\n",
              "      <th></th>\n",
              "      <th>review</th>\n",
              "      <th>sentiment</th>\n",
              "    </tr>\n",
              "  </thead>\n",
              "  <tbody>\n",
              "    <tr>\n",
              "      <th>15944</th>\n",
              "      <td>[pretty, inevitable, movie, borrows, core, fil...</td>\n",
              "      <td>0</td>\n",
              "    </tr>\n",
              "    <tr>\n",
              "      <th>538</th>\n",
              "      <td>[sixth, escapade, freddy, krueger, finally, ma...</td>\n",
              "      <td>0</td>\n",
              "    </tr>\n",
              "    <tr>\n",
              "      <th>17435</th>\n",
              "      <td>[apprehending, man, responsible, murder, boss,...</td>\n",
              "      <td>0</td>\n",
              "    </tr>\n",
              "    <tr>\n",
              "      <th>11217</th>\n",
              "      <td>[john, ben, chaplin, lonely, bank, clerk, live...</td>\n",
              "      <td>1</td>\n",
              "    </tr>\n",
              "    <tr>\n",
              "      <th>15505</th>\n",
              "      <td>[attended, one, premieres, last, night, follow...</td>\n",
              "      <td>0</td>\n",
              "    </tr>\n",
              "    <tr>\n",
              "      <th>...</th>\n",
              "      <td>...</td>\n",
              "      <td>...</td>\n",
              "    </tr>\n",
              "    <tr>\n",
              "      <th>49633</th>\n",
              "      <td>[absolutely, despise, movie, wonder, jose, lar...</td>\n",
              "      <td>0</td>\n",
              "    </tr>\n",
              "    <tr>\n",
              "      <th>21015</th>\n",
              "      <td>[crackerjack, simple, feelgood, movie, good, g...</td>\n",
              "      <td>1</td>\n",
              "    </tr>\n",
              "    <tr>\n",
              "      <th>20639</th>\n",
              "      <td>[hal, hartley, henry, fool, independent, film,...</td>\n",
              "      <td>1</td>\n",
              "    </tr>\n",
              "    <tr>\n",
              "      <th>29654</th>\n",
              "      <td>[lock, daughters, one, best, high, spirited, c...</td>\n",
              "      <td>1</td>\n",
              "    </tr>\n",
              "    <tr>\n",
              "      <th>22600</th>\n",
              "      <td>[come, realise, watching, sort, film, like, mu...</td>\n",
              "      <td>0</td>\n",
              "    </tr>\n",
              "  </tbody>\n",
              "</table>\n",
              "<p>10000 rows × 2 columns</p>\n",
              "</div>"
            ],
            "text/plain": [
              "                                                  review  sentiment\n",
              "15944  [pretty, inevitable, movie, borrows, core, fil...          0\n",
              "538    [sixth, escapade, freddy, krueger, finally, ma...          0\n",
              "17435  [apprehending, man, responsible, murder, boss,...          0\n",
              "11217  [john, ben, chaplin, lonely, bank, clerk, live...          1\n",
              "15505  [attended, one, premieres, last, night, follow...          0\n",
              "...                                                  ...        ...\n",
              "49633  [absolutely, despise, movie, wonder, jose, lar...          0\n",
              "21015  [crackerjack, simple, feelgood, movie, good, g...          1\n",
              "20639  [hal, hartley, henry, fool, independent, film,...          1\n",
              "29654  [lock, daughters, one, best, high, spirited, c...          1\n",
              "22600  [come, realise, watching, sort, film, like, mu...          0\n",
              "\n",
              "[10000 rows x 2 columns]"
            ]
          },
          "metadata": {},
          "execution_count": 8
        }
      ]
    },
    {
      "cell_type": "code",
      "metadata": {
        "id": "FqLYNhSe6aDC",
        "colab": {
          "base_uri": "https://localhost:8080/",
          "height": 423
        },
        "outputId": "cb335bc5-44eb-4c5b-db04-ac49862e35f8"
      },
      "source": [
        "#stemming\n",
        "\n",
        "from nltk.stem.porter import PorterStemmer\n",
        "ps= PorterStemmer()\n",
        "\n",
        "y=[]\n",
        "def stem_words(text):\n",
        "  for i in text:\n",
        "    y.append(ps.stem(i))\n",
        "  z=y[:]\n",
        "  y.clear()\n",
        "  return z  \n",
        "\n",
        "df['review']=df['review'].apply(stem_words)\n",
        "df"
      ],
      "execution_count": null,
      "outputs": [
        {
          "output_type": "execute_result",
          "data": {
            "text/html": [
              "<div>\n",
              "<style scoped>\n",
              "    .dataframe tbody tr th:only-of-type {\n",
              "        vertical-align: middle;\n",
              "    }\n",
              "\n",
              "    .dataframe tbody tr th {\n",
              "        vertical-align: top;\n",
              "    }\n",
              "\n",
              "    .dataframe thead th {\n",
              "        text-align: right;\n",
              "    }\n",
              "</style>\n",
              "<table border=\"1\" class=\"dataframe\">\n",
              "  <thead>\n",
              "    <tr style=\"text-align: right;\">\n",
              "      <th></th>\n",
              "      <th>review</th>\n",
              "      <th>sentiment</th>\n",
              "    </tr>\n",
              "  </thead>\n",
              "  <tbody>\n",
              "    <tr>\n",
              "      <th>15944</th>\n",
              "      <td>[pretti, inevit, movi, borrow, core, film, bor...</td>\n",
              "      <td>0</td>\n",
              "    </tr>\n",
              "    <tr>\n",
              "      <th>538</th>\n",
              "      <td>[sixth, escapad, freddi, krueger, final, manag...</td>\n",
              "      <td>0</td>\n",
              "    </tr>\n",
              "    <tr>\n",
              "      <th>17435</th>\n",
              "      <td>[apprehend, man, respons, murder, boss, deputi...</td>\n",
              "      <td>0</td>\n",
              "    </tr>\n",
              "    <tr>\n",
              "      <th>11217</th>\n",
              "      <td>[john, ben, chaplin, lone, bank, clerk, live, ...</td>\n",
              "      <td>1</td>\n",
              "    </tr>\n",
              "    <tr>\n",
              "      <th>15505</th>\n",
              "      <td>[attend, one, premier, last, night, follow, ob...</td>\n",
              "      <td>0</td>\n",
              "    </tr>\n",
              "    <tr>\n",
              "      <th>...</th>\n",
              "      <td>...</td>\n",
              "      <td>...</td>\n",
              "    </tr>\n",
              "    <tr>\n",
              "      <th>49633</th>\n",
              "      <td>[absolut, despis, movi, wonder, jose, larraz, ...</td>\n",
              "      <td>0</td>\n",
              "    </tr>\n",
              "    <tr>\n",
              "      <th>21015</th>\n",
              "      <td>[crackerjack, simpl, feelgood, movi, good, guy...</td>\n",
              "      <td>1</td>\n",
              "    </tr>\n",
              "    <tr>\n",
              "      <th>20639</th>\n",
              "      <td>[hal, hartley, henri, fool, independ, film, ma...</td>\n",
              "      <td>1</td>\n",
              "    </tr>\n",
              "    <tr>\n",
              "      <th>29654</th>\n",
              "      <td>[lock, daughter, one, best, high, spirit, come...</td>\n",
              "      <td>1</td>\n",
              "    </tr>\n",
              "    <tr>\n",
              "      <th>22600</th>\n",
              "      <td>[come, realis, watch, sort, film, like, much, ...</td>\n",
              "      <td>0</td>\n",
              "    </tr>\n",
              "  </tbody>\n",
              "</table>\n",
              "<p>10000 rows × 2 columns</p>\n",
              "</div>"
            ],
            "text/plain": [
              "                                                  review  sentiment\n",
              "15944  [pretti, inevit, movi, borrow, core, film, bor...          0\n",
              "538    [sixth, escapad, freddi, krueger, final, manag...          0\n",
              "17435  [apprehend, man, respons, murder, boss, deputi...          0\n",
              "11217  [john, ben, chaplin, lone, bank, clerk, live, ...          1\n",
              "15505  [attend, one, premier, last, night, follow, ob...          0\n",
              "...                                                  ...        ...\n",
              "49633  [absolut, despis, movi, wonder, jose, larraz, ...          0\n",
              "21015  [crackerjack, simpl, feelgood, movi, good, guy...          1\n",
              "20639  [hal, hartley, henri, fool, independ, film, ma...          1\n",
              "29654  [lock, daughter, one, best, high, spirit, come...          1\n",
              "22600  [come, realis, watch, sort, film, like, much, ...          0\n",
              "\n",
              "[10000 rows x 2 columns]"
            ]
          },
          "metadata": {},
          "execution_count": 9
        }
      ]
    },
    {
      "cell_type": "code",
      "metadata": {
        "id": "3dLdtaJY-0tQ",
        "colab": {
          "base_uri": "https://localhost:8080/",
          "height": 423
        },
        "outputId": "018d8716-4c4d-4b10-8c84-e0868c06678a"
      },
      "source": [
        "#join back\n",
        "\n",
        "def join_back(list_input):\n",
        "  return \" \".join(list_input)\n",
        "\n",
        "df['review']=df['review'].apply(join_back)\n",
        "df"
      ],
      "execution_count": null,
      "outputs": [
        {
          "output_type": "execute_result",
          "data": {
            "text/html": [
              "<div>\n",
              "<style scoped>\n",
              "    .dataframe tbody tr th:only-of-type {\n",
              "        vertical-align: middle;\n",
              "    }\n",
              "\n",
              "    .dataframe tbody tr th {\n",
              "        vertical-align: top;\n",
              "    }\n",
              "\n",
              "    .dataframe thead th {\n",
              "        text-align: right;\n",
              "    }\n",
              "</style>\n",
              "<table border=\"1\" class=\"dataframe\">\n",
              "  <thead>\n",
              "    <tr style=\"text-align: right;\">\n",
              "      <th></th>\n",
              "      <th>review</th>\n",
              "      <th>sentiment</th>\n",
              "    </tr>\n",
              "  </thead>\n",
              "  <tbody>\n",
              "    <tr>\n",
              "      <th>15944</th>\n",
              "      <td>pretti inevit movi borrow core film borrow arm...</td>\n",
              "      <td>0</td>\n",
              "    </tr>\n",
              "    <tr>\n",
              "      <th>538</th>\n",
              "      <td>sixth escapad freddi krueger final manag kill ...</td>\n",
              "      <td>0</td>\n",
              "    </tr>\n",
              "    <tr>\n",
              "      <th>17435</th>\n",
              "      <td>apprehend man respons murder boss deputi sheri...</td>\n",
              "      <td>0</td>\n",
              "    </tr>\n",
              "    <tr>\n",
              "      <th>11217</th>\n",
              "      <td>john ben chaplin lone bank clerk live small to...</td>\n",
              "      <td>1</td>\n",
              "    </tr>\n",
              "    <tr>\n",
              "      <th>15505</th>\n",
              "      <td>attend one premier last night follow observ 1 ...</td>\n",
              "      <td>0</td>\n",
              "    </tr>\n",
              "    <tr>\n",
              "      <th>...</th>\n",
              "      <td>...</td>\n",
              "      <td>...</td>\n",
              "    </tr>\n",
              "    <tr>\n",
              "      <th>49633</th>\n",
              "      <td>absolut despis movi wonder jose larraz disown ...</td>\n",
              "      <td>0</td>\n",
              "    </tr>\n",
              "    <tr>\n",
              "      <th>21015</th>\n",
              "      <td>crackerjack simpl feelgood movi good guy good ...</td>\n",
              "      <td>1</td>\n",
              "    </tr>\n",
              "    <tr>\n",
              "      <th>20639</th>\n",
              "      <td>hal hartley henri fool independ film masterpie...</td>\n",
              "      <td>1</td>\n",
              "    </tr>\n",
              "    <tr>\n",
              "      <th>29654</th>\n",
              "      <td>lock daughter one best high spirit comedi ever...</td>\n",
              "      <td>1</td>\n",
              "    </tr>\n",
              "    <tr>\n",
              "      <th>22600</th>\n",
              "      <td>come realis watch sort film like much cage wom...</td>\n",
              "      <td>0</td>\n",
              "    </tr>\n",
              "  </tbody>\n",
              "</table>\n",
              "<p>10000 rows × 2 columns</p>\n",
              "</div>"
            ],
            "text/plain": [
              "                                                  review  sentiment\n",
              "15944  pretti inevit movi borrow core film borrow arm...          0\n",
              "538    sixth escapad freddi krueger final manag kill ...          0\n",
              "17435  apprehend man respons murder boss deputi sheri...          0\n",
              "11217  john ben chaplin lone bank clerk live small to...          1\n",
              "15505  attend one premier last night follow observ 1 ...          0\n",
              "...                                                  ...        ...\n",
              "49633  absolut despis movi wonder jose larraz disown ...          0\n",
              "21015  crackerjack simpl feelgood movi good guy good ...          1\n",
              "20639  hal hartley henri fool independ film masterpie...          1\n",
              "29654  lock daughter one best high spirit comedi ever...          1\n",
              "22600  come realis watch sort film like much cage wom...          0\n",
              "\n",
              "[10000 rows x 2 columns]"
            ]
          },
          "metadata": {},
          "execution_count": 10
        }
      ]
    },
    {
      "cell_type": "markdown",
      "metadata": {
        "id": "vmGYDGqgAGLE"
      },
      "source": [
        "# Data Transformation"
      ]
    },
    {
      "cell_type": "code",
      "metadata": {
        "id": "WxxBMf60KZpA"
      },
      "source": [
        "#TFIDF\n",
        "from sklearn.feature_extraction.text import TfidfVectorizer\n",
        "tfidf=TfidfVectorizer()\n",
        "from sklearn.model_selection import train_test_split\n",
        "from sklearn.metrics import classification_report, accuracy_score\n"
      ],
      "execution_count": null,
      "outputs": []
    },
    {
      "cell_type": "code",
      "metadata": {
        "id": "Q8Bmk8SSKdDd"
      },
      "source": [
        "A=tfidf.fit_transform(df['review']).toarray()\n",
        "b=df['sentiment'].values\n",
        "\n",
        "A_train, A_test, b_train, b_test=train_test_split(A,b,test_size=0.2)\n"
      ],
      "execution_count": null,
      "outputs": []
    },
    {
      "cell_type": "markdown",
      "metadata": {
        "id": "76YhWqi2yQEx"
      },
      "source": [
        "# Training Models"
      ]
    },
    {
      "cell_type": "code",
      "metadata": {
        "id": "wVimgrpQMwJG",
        "colab": {
          "base_uri": "https://localhost:8080/"
        },
        "outputId": "e41ea0cc-44eb-48f8-e16d-336167123bab"
      },
      "source": [
        "#Naive Bayes Model\n",
        "from sklearn.naive_bayes import MultinomialNB, GaussianNB\n",
        "\n",
        "tfmlnb= MultinomialNB()\n",
        "tfgsnb= GaussianNB()\n",
        "\n",
        "tfgsnb.fit(A_train, b_train)\n",
        "tfmlnb.fit(A_train, b_train)\n",
        "\n",
        "b_pred_mlnb=tfmlnb.predict(A_test)\n",
        "b_pred_gsnb=tfgsnb.predict(A_test)\n",
        "\n",
        "print(\"Multinomial NB\")\n",
        "print(classification_report(b_test, b_pred_mlnb))\n",
        "print(\"Gausssian NB\")\n",
        "print(classification_report(b_test, b_pred_gsnb))"
      ],
      "execution_count": null,
      "outputs": [
        {
          "output_type": "stream",
          "name": "stdout",
          "text": [
            "Multinomial NB\n",
            "              precision    recall  f1-score   support\n",
            "\n",
            "           0       0.85      0.86      0.86       977\n",
            "           1       0.87      0.85      0.86      1023\n",
            "\n",
            "    accuracy                           0.86      2000\n",
            "   macro avg       0.86      0.86      0.86      2000\n",
            "weighted avg       0.86      0.86      0.86      2000\n",
            "\n",
            "Gausssian NB\n",
            "              precision    recall  f1-score   support\n",
            "\n",
            "           0       0.61      0.69      0.64       977\n",
            "           1       0.66      0.58      0.61      1023\n",
            "\n",
            "    accuracy                           0.63      2000\n",
            "   macro avg       0.63      0.63      0.63      2000\n",
            "weighted avg       0.63      0.63      0.63      2000\n",
            "\n"
          ]
        }
      ]
    },
    {
      "cell_type": "code",
      "metadata": {
        "colab": {
          "base_uri": "https://localhost:8080/"
        },
        "id": "Ih6ioHFIGvpW",
        "outputId": "44a2629c-eae9-4215-9592-97504fa4737a"
      },
      "source": [
        "#Logistic Regression Model\n",
        "\n",
        "from sklearn.linear_model import LogisticRegression\n",
        "lr=LogisticRegression()\n",
        "lr.fit(A_train, b_train)\n",
        "b_pred_lr=lr.predict(A_test)\n",
        "print(classification_report(b_test,b_pred_lr))"
      ],
      "execution_count": null,
      "outputs": [
        {
          "output_type": "stream",
          "name": "stdout",
          "text": [
            "              precision    recall  f1-score   support\n",
            "\n",
            "           0       0.88      0.85      0.87       977\n",
            "           1       0.86      0.89      0.88      1023\n",
            "\n",
            "    accuracy                           0.87      2000\n",
            "   macro avg       0.87      0.87      0.87      2000\n",
            "weighted avg       0.87      0.87      0.87      2000\n",
            "\n"
          ]
        }
      ]
    },
    {
      "cell_type": "markdown",
      "metadata": {
        "id": "LwCUDFbxApTF"
      },
      "source": [
        "# Custom Test"
      ]
    },
    {
      "cell_type": "code",
      "metadata": {
        "colab": {
          "base_uri": "https://localhost:8080/"
        },
        "id": "ObFteaUfzs_X",
        "outputId": "6e370297-a7e0-4933-eade-6b6942d90af8"
      },
      "source": [
        "#Using best performing model (LogisticRegression)\n",
        "\n",
        "y_cs=df.sentiment\n",
        "trainingVector = TfidfVectorizer()\n",
        "X_cs = trainingVector.fit_transform(df.review)\n",
        "LR_cs = LogisticRegression()\n",
        "LR_cs.fit(X_cs, y_cs)\n",
        "\n",
        "#Input Review\n",
        "\n",
        "print('\\nTest a custom review message')\n",
        "print('Enter review to be analysed: ', end=\" \")\n",
        "test = []\n",
        "test.append(input())\n",
        "test_cs = trainingVector.transform(test)\n",
        "predLabel = LR_cs.predict(test_cs)\n",
        "tags = ['Negative','Positive']\n",
        "\n",
        "#Display Output\n",
        "\n",
        "print('The review is predicted',tags[predLabel[0]])"
      ],
      "execution_count": null,
      "outputs": [
        {
          "output_type": "stream",
          "name": "stdout",
          "text": [
            "\n",
            "Test a custom review message\n",
            "Enter review to be analysed:  i disliked every second of it\n",
            "The review is predicted Negative\n"
          ]
        }
      ]
    }
  ]
}